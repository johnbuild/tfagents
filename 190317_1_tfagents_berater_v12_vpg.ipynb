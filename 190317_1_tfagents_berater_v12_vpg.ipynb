{
  "nbformat": 4,
  "nbformat_minor": 0,
  "metadata": {
    "colab": {
      "name": "190317-1_tfagents_berater-v12_vpg.ipynb",
      "version": "0.3.2",
      "provenance": [],
      "collapsed_sections": [],
      "include_colab_link": true
    },
    "kernelspec": {
      "name": "python3",
      "display_name": "Python 3"
    },
    "accelerator": "GPU"
  },
  "cells": [
    {
      "cell_type": "markdown",
      "metadata": {
        "id": "view-in-github",
        "colab_type": "text"
      },
      "source": [
        "<a href=\"https://colab.research.google.com/github/johnbuild/tfagents/blob/master/190317_1_tfagents_berater_v12_vpg.ipynb\" target=\"_parent\"><img src=\"https://colab.research.google.com/assets/colab-badge.svg\" alt=\"Open In Colab\"/></a>"
      ]
    },
    {
      "metadata": {
        "colab_type": "text",
        "id": "eU7ylMh1kQ2y"
      },
      "cell_type": "markdown",
      "source": [
        "# Berater Environment v13\n",
        "\n",
        "## Changes from v12 (work in progress)\n",
        "* port to tfagents with reinforce (vanilla policy gradient)\n",
        "* seems to \"run\" but fails to learn\n",
        "* problem with loss function ? converges to 0 but reward stays at -3\n",
        "* openai implementation removed"
      ]
    },
    {
      "metadata": {
        "id": "PQiN7IVMS6SC",
        "colab_type": "code",
        "colab": {}
      },
      "cell_type": "code",
      "source": [
        "berater_show_step=False \n",
        "berater_show_done=False \n",
        "berater_debug_step=False "
      ],
      "execution_count": 0,
      "outputs": []
    },
    {
      "metadata": {
        "colab_type": "text",
        "id": "zpzHtN3-kQ26"
      },
      "cell_type": "markdown",
      "source": [
        "## Install tf-agents"
      ]
    },
    {
      "metadata": {
        "colab_type": "code",
        "id": "0E567zPTkQ28",
        "colab": {}
      },
      "cell_type": "code",
      "source": [
        "!pip install tf-agents-nightly > /dev/null\n",
        "!pip install tf-nightly > /dev/null"
      ],
      "execution_count": 0,
      "outputs": []
    },
    {
      "metadata": {
        "id": "w3OdHyWEEEwy",
        "colab_type": "text"
      },
      "cell_type": "markdown",
      "source": [
        "# Define Environment"
      ]
    },
    {
      "metadata": {
        "id": "sQ8Nfk3MKgLt",
        "colab_type": "text"
      },
      "cell_type": "markdown",
      "source": [
        "### Imports"
      ]
    },
    {
      "metadata": {
        "id": "HQyb_Aq8Kg9j",
        "colab_type": "code",
        "colab": {}
      },
      "cell_type": "code",
      "source": [
        "import numpy as np\n",
        "import random\n",
        "\n",
        "import gym\n",
        "from gym.utils import seeding\n",
        "from gym import spaces\n",
        "\n",
        "import pdb"
      ],
      "execution_count": 0,
      "outputs": []
    },
    {
      "metadata": {
        "id": "OsJ6zcXvwN53",
        "colab_type": "text"
      },
      "cell_type": "markdown",
      "source": [
        "### Helper methods"
      ]
    },
    {
      "metadata": {
        "colab_type": "code",
        "id": "-S4sZG5ZkQ3T",
        "colab": {}
      },
      "cell_type": "code",
      "source": [
        "def state_name_to_int(state):\n",
        "    state_name_map = {\n",
        "        'S': 0,\n",
        "        'A': 1,\n",
        "        'B': 2,\n",
        "        'C': 3,\n",
        "        'D': 4,\n",
        "        'E': 5,\n",
        "        'F': 6,\n",
        "        'G': 7,\n",
        "        'H': 8,\n",
        "        'K': 9,\n",
        "        'L': 10,\n",
        "        'M': 11,\n",
        "        'N': 12,\n",
        "        'O': 13\n",
        "    }\n",
        "    return state_name_map[state]\n",
        "\n",
        "def int_to_state_name(state_as_int):\n",
        "    state_map = {\n",
        "        0: 'S',\n",
        "        1: 'A',\n",
        "        2: 'B',\n",
        "        3: 'C',\n",
        "        4: 'D',\n",
        "        5: 'E',\n",
        "        6: 'F',\n",
        "        7: 'G',\n",
        "        8: 'H',\n",
        "        9: 'K',\n",
        "        10: 'L',\n",
        "        11: 'M',\n",
        "        12: 'N',\n",
        "        13: 'O'\n",
        "    }\n",
        "    return state_map[state_as_int]\n",
        "    \n"
      ],
      "execution_count": 0,
      "outputs": []
    },
    {
      "metadata": {
        "id": "x-olom0nwiSX",
        "colab_type": "text"
      },
      "cell_type": "markdown",
      "source": [
        "### Berater Environment (OpenAI Gym)"
      ]
    },
    {
      "metadata": {
        "id": "3plH2u3Swotj",
        "colab_type": "code",
        "colab": {}
      },
      "cell_type": "code",
      "source": [
        "class BeraterEnv(gym.Env):\n",
        "    \"\"\"\n",
        "    The Berater Problem\n",
        "\n",
        "    Actions: \n",
        "    There are 4 discrete deterministic actions, each choosing one direction\n",
        "    \"\"\"\n",
        "    metadata = {'render.modes': ['ansi']}\n",
        "    \n",
        "    showStep = False\n",
        "    showDone = True\n",
        "    envEpisodeModulo = 100\n",
        "\n",
        "    def __init__(self):\n",
        "#         self.map = {\n",
        "#             'S': [('A', 100), ('B', 400), ('C', 200 )],\n",
        "#             'A': [('B', 250), ('C', 400), ('S', 100 )],\n",
        "#             'B': [('A', 250), ('C', 250), ('S', 400 )],\n",
        "#             'C': [('A', 400), ('B', 250), ('S', 200 )]\n",
        "#         }\n",
        "        self.map = {\n",
        "            'S': [('A', 300), ('B', 100), ('C', 200 )],\n",
        "            'A': [('S', 300), ('B', 100), ('E', 100 ), ('D', 100 )],\n",
        "            'B': [('S', 100), ('A', 100), ('C', 50 ), ('K', 200 )],\n",
        "            'C': [('S', 200), ('B', 50), ('M', 100 ), ('L', 200 )],\n",
        "            'D': [('A', 100), ('F', 50)],\n",
        "            'E': [('A', 100), ('F', 100), ('H', 100)],\n",
        "            'F': [('D', 50), ('E', 100), ('G', 200)],\n",
        "            'G': [('F', 200), ('O', 300)],\n",
        "            'H': [('E', 100), ('K', 300)],\n",
        "            'K': [('B', 200), ('H', 300)],\n",
        "            'L': [('C', 200), ('M', 50)],\n",
        "            'M': [('C', 100), ('L', 50), ('N', 100)],\n",
        "            'N': [('M', 100), ('O', 100)],\n",
        "            'O': [('N', 100), ('G', 300)]\n",
        "        }\n",
        "        max_paths = 4\n",
        "        self.action_space = spaces.Discrete(max_paths)\n",
        "      \n",
        "        positions = len(self.map)\n",
        "        # observations: position, reward of all 4 local paths, rest reward of all locations\n",
        "        # non existing path is -1000 and no position change\n",
        "        # look at what #getObservation returns if you are confused\n",
        "        low = np.append(np.append([0], np.full(max_paths, -1000)), np.full(positions, 0))\n",
        "        high = np.append(np.append([positions - 1], np.full(max_paths, 1000)), np.full(positions, 1000))\n",
        "        self.observation_space = spaces.Box(low=low,\n",
        "                                             high=high,\n",
        "                                             dtype=np.float32)\n",
        "        self.reward_range = (-1, 1)\n",
        "\n",
        "        self.totalReward = 0\n",
        "        self.stepCount = 0\n",
        "        self.isDone = False\n",
        "\n",
        "        self.envReward = 0\n",
        "        self.envEpisodeCount = 0\n",
        "        self.envStepCount = 0\n",
        "\n",
        "        self.reset()\n",
        "        self.optimum = self.calculate_customers_reward()\n",
        "\n",
        "    def seed(self, seed=None):\n",
        "        self.np_random, seed = seeding.np_random(seed)\n",
        "        return [seed]\n",
        "\n",
        "    def iterate_path(self, state, action):\n",
        "        paths = self.map[state]\n",
        "        if action < len(paths):\n",
        "          return paths[action]\n",
        "        else:\n",
        "          # sorry, no such action, stay where you are and pay a high penalty\n",
        "          return (state, 1000)\n",
        "      \n",
        "    def step(self, action):\n",
        "        if self.debugStep:\n",
        "          pdb.set_trace()\n",
        "        destination, cost = self.iterate_path(self.state, action)\n",
        "        lastState = self.state\n",
        "        customerReward = self.customer_reward[destination]\n",
        "        reward = (customerReward - cost) / self.optimum\n",
        "\n",
        "        self.state = destination\n",
        "        self.customer_visited(destination)\n",
        "        done = (destination == 'S' and self.all_customers_visited())\n",
        "        if self.stepCount >= 200:\n",
        "          if BeraterEnv.showDone:\n",
        "            print(\"Done: stepCount >= 200\")\n",
        "          done = True\n",
        "\n",
        "        stateAsInt = state_name_to_int(self.state)\n",
        "        self.totalReward += reward\n",
        "        self.stepCount += 1\n",
        "        self.envReward += reward\n",
        "        self.envStepCount += 1\n",
        "\n",
        "        if self.showStep:\n",
        "            print( \"Episode: \" + (\"%4.0f  \" % self.envEpisodeCount) + \n",
        "                   \" Step: \" + (\"%4.0f  \" % self.stepCount) + \n",
        "                   lastState + ' --' + str(action) + '-> ' + self.state + \n",
        "                   ' R=' + (\"% 2.2f\" % reward) + ' totalR=' + (\"% 3.2f\" % self.totalReward) + \n",
        "                   ' cost=' + (\"%4.0f\" % cost) + ' customerR=' + (\"%4.0f\" % customerReward) + ' optimum=' + (\"%4.0f\" % self.optimum)      \n",
        "                   )\n",
        "\n",
        "        if done and not self.isDone:\n",
        "            self.envEpisodeCount += 1\n",
        "            if BeraterEnv.showDone:\n",
        "                episodes = BeraterEnv.envEpisodeModulo\n",
        "                if (self.envEpisodeCount % BeraterEnv.envEpisodeModulo != 0):\n",
        "                    episodes = self.envEpisodeCount % BeraterEnv.envEpisodeModulo\n",
        "                print( \"Done: \" + \n",
        "                        (\"episodes=%6.0f  \" % self.envEpisodeCount) + \n",
        "                        (\"avgSteps=%6.2f  \" % (self.envStepCount/episodes)) + \n",
        "                        (\"avgTotalReward=% 3.2f\" % (self.envReward/episodes) )\n",
        "                        )\n",
        "                if (self.envEpisodeCount%BeraterEnv.envEpisodeModulo) == 0:\n",
        "                    self.envReward = 0\n",
        "                    self.envStepCount = 0\n",
        "\n",
        "        self.isDone = done\n",
        "        observation = self.getObservation(stateAsInt)\n",
        "        info = {\"from\": self.state, \"to\": destination}\n",
        "\n",
        "        return observation, reward, done, info\n",
        "\n",
        "    def getObservation(self, position):\n",
        "        result = np.array([ position, \n",
        "                               self.getPathObservation(position, 0),\n",
        "                               self.getPathObservation(position, 1),\n",
        "                               self.getPathObservation(position, 2),\n",
        "                               self.getPathObservation(position, 3)\n",
        "                              ],\n",
        "                             dtype=np.float32)\n",
        "        all_rest_rewards = list(self.customer_reward.values())\n",
        "        result = np.append(result, all_rest_rewards)\n",
        "        return result\n",
        "\n",
        "    def getPathObservation(self, position, path):\n",
        "        source = int_to_state_name(position)\n",
        "        paths = self.map[self.state]\n",
        "        if path < len(paths):\n",
        "          target, cost = paths[path]\n",
        "          reward = self.customer_reward[target] \n",
        "          result = reward - cost\n",
        "        else:\n",
        "          result = -1000\n",
        "\n",
        "        return result\n",
        "\n",
        "    def customer_visited(self, customer):\n",
        "        self.customer_reward[customer] = 0\n",
        "\n",
        "    def all_customers_visited(self):\n",
        "        return self.calculate_customers_reward() == 0\n",
        "\n",
        "    def calculate_customers_reward(self):\n",
        "        sum = 0\n",
        "        for value in self.customer_reward.values():\n",
        "            sum += value\n",
        "        return sum\n",
        "\n",
        "      \n",
        "    def modulate_reward(self):\n",
        "      number_of_customers = len(self.map) - 1\n",
        "      number_per_consultant = int(number_of_customers/2)\n",
        "#       number_per_consultant = int(number_of_customers/1.5)\n",
        "      self.customer_reward = {\n",
        "          'S': 0\n",
        "      }\n",
        "      for customer_nr in range(1, number_of_customers + 1):\n",
        "        self.customer_reward[int_to_state_name(customer_nr)] = 0\n",
        "      \n",
        "      # every consultant only visits a few random customers\n",
        "      samples = random.sample(range(1, number_of_customers + 1), k=number_per_consultant)\n",
        "      key_list = list(self.customer_reward.keys())\n",
        "      for sample in samples:\n",
        "        self.customer_reward[key_list[sample]] = 1000\n",
        "\n",
        "      \n",
        "    def reset(self):\n",
        "        self.totalReward = 0\n",
        "        self.stepCount = 0\n",
        "        self.isDone = False\n",
        "\n",
        "        self.modulate_reward()\n",
        "        self.state = 'S'\n",
        "        return self.getObservation(state_name_to_int(self.state))\n",
        "      \n",
        "    def render(self):\n",
        "      print(self.customer_reward)"
      ],
      "execution_count": 0,
      "outputs": []
    },
    {
      "metadata": {
        "id": "9J54w2URZIme",
        "colab_type": "code",
        "colab": {}
      },
      "cell_type": "code",
      "source": [
        "BeraterEnv.showStep = berater_show_step\n",
        "BeraterEnv.showDone = berater_show_done\n",
        "BeraterEnv.debugStep = berater_debug_step"
      ],
      "execution_count": 0,
      "outputs": []
    },
    {
      "metadata": {
        "id": "EYaTAvAyYO-U",
        "colab_type": "text"
      },
      "cell_type": "markdown",
      "source": [
        "### Register with OpenAI Gym"
      ]
    },
    {
      "metadata": {
        "id": "yhI9abUVYNrU",
        "colab_type": "code",
        "outputId": "74295e40-aee7-4490-dab7-7013bac71aee",
        "colab": {
          "base_uri": "https://localhost:8080/",
          "height": 34
        }
      },
      "cell_type": "code",
      "source": [
        "if not 'isEnvRegistered' in locals():\n",
        "  env_name=\"Berater-v1\"\n",
        "  gym.envs.registration.register(id=env_name,entry_point=BeraterEnv,max_episode_steps=1000)\n",
        "  isEnvRegistered=True\n",
        "  print(\"Berater registered as '\" + env_name + \"'\")\n",
        "else:\n",
        "  print(\"Already registered\")"
      ],
      "execution_count": 7,
      "outputs": [
        {
          "output_type": "stream",
          "text": [
            "Berater registered as 'Berater-v1'\n"
          ],
          "name": "stdout"
        }
      ]
    },
    {
      "metadata": {
        "id": "sX8eJGcbOJ30",
        "colab_type": "text"
      },
      "cell_type": "markdown",
      "source": [
        "# Vanilla Policy Gradient TF-Agent: setup, train, visualize"
      ]
    },
    {
      "metadata": {
        "id": "bzoq0VM85p46",
        "colab_type": "text"
      },
      "cell_type": "markdown",
      "source": [
        "### Imports & Helpers"
      ]
    },
    {
      "metadata": {
        "id": "yjMTlCFssZ1P",
        "colab_type": "code",
        "colab": {}
      },
      "cell_type": "code",
      "source": [
        "import tensorflow as tf\n",
        "\n",
        "from tf_agents.agents.reinforce import reinforce_agent\n",
        "from tf_agents.drivers import dynamic_episode_driver\n",
        "from tf_agents.environments import suite_gym\n",
        "from tf_agents.environments import tf_py_environment\n",
        "from tf_agents.networks import actor_distribution_network\n",
        "from tf_agents.replay_buffers import tf_uniform_replay_buffer\n",
        "from tf_agents.utils import common\n",
        "\n",
        "tf.compat.v1.enable_v2_behavior()"
      ],
      "execution_count": 0,
      "outputs": []
    },
    {
      "metadata": {
        "id": "098kuzbZAHg9",
        "colab_type": "code",
        "colab": {}
      },
      "cell_type": "code",
      "source": [
        "#@test {\"skip\": true}\n",
        "def compute_avg_return(environment, policy, num_episodes=10):\n",
        "  old_show_step = BeraterEnv.showStep\n",
        "  old_show_done = BeraterEnv.showDone\n",
        "  old_debug_step = BeraterEnv.debugStep\n",
        "  BeraterEnv.showStep=False\n",
        "  BeraterEnv.showDone=False\n",
        "  BeraterEnv.debugStep=False\n",
        "  \n",
        "  total_return = 0.0\n",
        "  for _ in range(num_episodes):\n",
        "\n",
        "    time_step = environment.reset()\n",
        "    episode_return = 0.0\n",
        "\n",
        "    while not time_step.is_last():\n",
        "      action_step = policy.action(time_step)\n",
        "      time_step = environment.step(action_step.action)\n",
        "      episode_return += time_step.reward\n",
        "    total_return += episode_return\n",
        "\n",
        "  avg_return = total_return / num_episodes\n",
        "  BeraterEnv.showStep=old_show_step\n",
        "  BeraterEnv.showDone=old_show_done\n",
        "  BeraterEnv.debugStep=old_debug_step\n",
        "  return avg_return.numpy()[0]\n"
      ],
      "execution_count": 0,
      "outputs": []
    },
    {
      "metadata": {
        "id": "1pGZ1aRXAJto",
        "colab_type": "text"
      },
      "cell_type": "markdown",
      "source": [
        "### Setup"
      ]
    },
    {
      "metadata": {
        "id": "ASNIg0HtsIjE",
        "colab_type": "code",
        "colab": {}
      },
      "cell_type": "code",
      "source": [
        "env_name='Berater-v1'\n",
        "num_iterations=100 # @param\n",
        "fc_layers=(500,500,500,) # @param\n",
        "\n",
        "# Params for collect\n",
        "collect_episodes_per_iteration=10 # @param\n",
        "replay_buffer_capacity=2000 # @param\n",
        "# Params for train\n",
        "learning_rate=1e-3 # @param\n",
        "gradient_clipping=None\n",
        "normalize_returns=True\n",
        "# Params for eval\n",
        "num_eval_episodes=3 # @param\n",
        "eval_interval=5 # @param\n",
        "# Params for checkpoints, summaries, and logging\n",
        "log_interval=1 # @param\n"
      ],
      "execution_count": 0,
      "outputs": []
    },
    {
      "metadata": {
        "id": "eo8emDAvtH23",
        "colab_type": "code",
        "colab": {}
      },
      "cell_type": "code",
      "source": [
        "tf_env = tf_py_environment.TFPyEnvironment(suite_gym.load(env_name))\n",
        "eval_env = tf_py_environment.TFPyEnvironment(suite_gym.load(env_name))\n",
        "\n",
        "global_step = tf.compat.v1.train.get_or_create_global_step()\n",
        "tf.compat.v1.set_random_seed(0)\n",
        "\n",
        "actor_net = actor_distribution_network.ActorDistributionNetwork(\n",
        "    tf_env.time_step_spec().observation,\n",
        "    tf_env.action_spec(),\n",
        "    fc_layer_params=fc_layers)\n",
        "\n",
        "tf_agent = reinforce_agent.ReinforceAgent(\n",
        "    tf_env.time_step_spec(),\n",
        "    tf_env.action_spec(),\n",
        "    actor_network=actor_net,\n",
        "    optimizer=tf.compat.v1.train.AdamOptimizer(learning_rate=learning_rate),\n",
        "    normalize_returns=normalize_returns,\n",
        "    gradient_clipping=gradient_clipping,\n",
        "    debug_summaries=False,\n",
        "    summarize_grads_and_vars=False)\n",
        "tf_agent.initialize()\n",
        "\n",
        "\n",
        "replay_buffer = tf_uniform_replay_buffer.TFUniformReplayBuffer(\n",
        "    tf_agent.collect_data_spec,\n",
        "    batch_size=tf_env.batch_size,\n",
        "    max_length=replay_buffer_capacity)\n",
        "\n",
        "eval_policy = tf_agent.policy\n",
        "collect_policy = tf_agent.collect_policy\n",
        "\n",
        "collect_driver = dynamic_episode_driver.DynamicEpisodeDriver(\n",
        "    tf_env,\n",
        "    collect_policy,\n",
        "    observers=[replay_buffer.add_batch],\n",
        "    num_episodes=collect_episodes_per_iteration)\n",
        "\n",
        "collect_driver.run = common.function(collect_driver.run, autograph=False)\n",
        "tf_agent.train = common.function(tf_agent.train, autograph=False)"
      ],
      "execution_count": 0,
      "outputs": []
    },
    {
      "metadata": {
        "id": "DndWC9IsApT7",
        "colab_type": "text"
      },
      "cell_type": "markdown",
      "source": [
        "### Train"
      ]
    },
    {
      "metadata": {
        "id": "jANo00_D4SDt",
        "colab_type": "code",
        "colab": {}
      },
      "cell_type": "code",
      "source": [
        "BeraterEnv.showStep=False\n",
        "BeraterEnv.showDone=False"
      ],
      "execution_count": 0,
      "outputs": []
    },
    {
      "metadata": {
        "id": "9tm7_OYNvK_E",
        "colab_type": "code",
        "colab": {
          "base_uri": "https://localhost:8080/",
          "height": 2129
        },
        "outputId": "68e61984-5e6b-4b91-cb5f-4cc0e7c8cdc3"
      },
      "cell_type": "code",
      "source": [
        "avg_return = compute_avg_return(eval_env, tf_agent.policy, num_eval_episodes)\n",
        "returns=[avg_return]\n",
        "loss=[]\n",
        "\n",
        "for step in range(num_iterations):\n",
        "  collect_driver.run()\n",
        "  experience = replay_buffer.gather_all()\n",
        "  total_loss = tf_agent.train(experience)\n",
        "  replay_buffer.clear()\n",
        "\n",
        "  if step % log_interval == 0:\n",
        "    print('iteration/train_step = {}, loss = {}'.format(step, total_loss.loss.numpy()))\n",
        "\n",
        "  if step % eval_interval == 0:\n",
        "    avg_return = compute_avg_return(eval_env, tf_agent.policy, num_eval_episodes)\n",
        "    print('iteration/train_step = {}, Average Return = {}'.format(step, avg_return))\n",
        "    returns.append(avg_return)"
      ],
      "execution_count": 41,
      "outputs": [
        {
          "output_type": "stream",
          "text": [
            "iteration/train_step = 0, loss = -214.26231384277344\n",
            "iteration/train_step = 0, Average Return = -3.1277754306793213\n",
            "iteration/train_step = 1, loss = 6.6664605140686035\n",
            "iteration/train_step = 2, loss = -22.090158462524414\n",
            "iteration/train_step = 3, loss = -0.07825373113155365\n",
            "iteration/train_step = 4, loss = -0.08218081295490265\n",
            "iteration/train_step = 5, loss = -9.410524944541976e-05\n",
            "iteration/train_step = 5, Average Return = -2.5722203254699707\n",
            "iteration/train_step = 6, loss = 0.0\n",
            "iteration/train_step = 7, loss = 0.0021843011491000652\n",
            "iteration/train_step = 8, loss = 0.0\n",
            "iteration/train_step = 9, loss = 0.0022439472377300262\n",
            "iteration/train_step = 10, loss = -0.02581731416285038\n",
            "iteration/train_step = 10, Average Return = -3.183331251144409\n",
            "iteration/train_step = 11, loss = 0.0\n",
            "iteration/train_step = 12, loss = -6.838257104391232e-05\n",
            "iteration/train_step = 13, loss = 0.0\n",
            "iteration/train_step = 14, loss = 0.0\n",
            "iteration/train_step = 15, loss = 0.0\n",
            "iteration/train_step = 15, Average Return = -3.1277754306793213\n",
            "iteration/train_step = 16, loss = 0.00010287266923114657\n",
            "iteration/train_step = 17, loss = 0.0\n",
            "iteration/train_step = 18, loss = 0.0\n",
            "iteration/train_step = 19, loss = 0.0\n",
            "iteration/train_step = 20, loss = 0.0\n",
            "iteration/train_step = 20, Average Return = -3.183331251144409\n",
            "iteration/train_step = 21, loss = 0.0\n",
            "iteration/train_step = 22, loss = 0.0\n",
            "iteration/train_step = 23, loss = 0.0\n",
            "iteration/train_step = 24, loss = -0.008434073068201542\n",
            "iteration/train_step = 25, loss = -5.556528890338086e-07\n",
            "iteration/train_step = 25, Average Return = -3.1277754306793213\n",
            "iteration/train_step = 26, loss = 0.0\n",
            "iteration/train_step = 27, loss = 9.292996764997952e-06\n",
            "iteration/train_step = 28, loss = 0.016645394265651703\n",
            "iteration/train_step = 29, loss = 0.0\n",
            "iteration/train_step = 30, loss = -5.621375748887658e-05\n",
            "iteration/train_step = 30, Average Return = -3.3499975204467773\n",
            "iteration/train_step = 31, loss = 0.0\n",
            "iteration/train_step = 32, loss = 0.0\n",
            "iteration/train_step = 33, loss = -18.48151969909668\n",
            "iteration/train_step = 34, loss = -4.7639546394348145\n",
            "iteration/train_step = 35, loss = -0.07789360731840134\n",
            "iteration/train_step = 35, Average Return = -3.2944419384002686\n",
            "iteration/train_step = 36, loss = 7.1518449783325195\n",
            "iteration/train_step = 37, loss = -0.006173841655254364\n",
            "iteration/train_step = 38, loss = 0.0\n",
            "iteration/train_step = 39, loss = 0.0\n",
            "iteration/train_step = 40, loss = 0.0\n",
            "iteration/train_step = 40, Average Return = -3.1277754306793213\n",
            "iteration/train_step = 41, loss = 0.0\n",
            "iteration/train_step = 42, loss = -0.42209744453430176\n",
            "iteration/train_step = 43, loss = -3.0983595934230834e-05\n",
            "iteration/train_step = 44, loss = 0.0\n",
            "iteration/train_step = 45, loss = 0.0\n",
            "iteration/train_step = 45, Average Return = -3.183331251144409\n",
            "iteration/train_step = 46, loss = 0.0\n",
            "iteration/train_step = 47, loss = 0.0\n",
            "iteration/train_step = 48, loss = 0.0\n",
            "iteration/train_step = 49, loss = 0.0\n",
            "iteration/train_step = 50, loss = 0.0\n",
            "iteration/train_step = 50, Average Return = -3.1277754306793213\n",
            "iteration/train_step = 51, loss = 0.0\n",
            "iteration/train_step = 52, loss = 0.0\n",
            "iteration/train_step = 53, loss = 0.0\n",
            "iteration/train_step = 54, loss = 0.0\n",
            "iteration/train_step = 55, loss = 0.0\n",
            "iteration/train_step = 55, Average Return = -3.238886594772339\n",
            "iteration/train_step = 56, loss = 0.0\n",
            "iteration/train_step = 57, loss = 0.0\n",
            "iteration/train_step = 58, loss = 0.0\n",
            "iteration/train_step = 59, loss = 0.0\n",
            "iteration/train_step = 60, loss = 0.0\n",
            "iteration/train_step = 60, Average Return = -3.1277754306793213\n",
            "iteration/train_step = 61, loss = 0.0\n",
            "iteration/train_step = 62, loss = 0.0\n",
            "iteration/train_step = 63, loss = 0.0\n",
            "iteration/train_step = 64, loss = 0.0\n",
            "iteration/train_step = 65, loss = 0.0\n",
            "iteration/train_step = 65, Average Return = -3.238886594772339\n",
            "iteration/train_step = 66, loss = 0.0\n",
            "iteration/train_step = 67, loss = 0.0\n",
            "iteration/train_step = 68, loss = 0.0\n",
            "iteration/train_step = 69, loss = 0.0\n",
            "iteration/train_step = 70, loss = 0.0\n",
            "iteration/train_step = 70, Average Return = -3.1277754306793213\n",
            "iteration/train_step = 71, loss = 0.0\n",
            "iteration/train_step = 72, loss = 0.0\n",
            "iteration/train_step = 73, loss = 0.0\n",
            "iteration/train_step = 74, loss = 0.0\n",
            "iteration/train_step = 75, loss = 0.0\n",
            "iteration/train_step = 75, Average Return = -3.1277754306793213\n",
            "iteration/train_step = 76, loss = 0.0\n",
            "iteration/train_step = 77, loss = 0.0\n",
            "iteration/train_step = 78, loss = 0.0\n",
            "iteration/train_step = 79, loss = 0.0\n",
            "iteration/train_step = 80, loss = 0.0\n",
            "iteration/train_step = 80, Average Return = -3.3499975204467773\n",
            "iteration/train_step = 81, loss = 0.0\n",
            "iteration/train_step = 82, loss = 0.0\n",
            "iteration/train_step = 83, loss = 0.0\n",
            "iteration/train_step = 84, loss = 0.0\n",
            "iteration/train_step = 85, loss = 0.0\n",
            "iteration/train_step = 85, Average Return = -3.3499975204467773\n",
            "iteration/train_step = 86, loss = 0.0\n",
            "iteration/train_step = 87, loss = 0.0\n",
            "iteration/train_step = 88, loss = 0.0\n",
            "iteration/train_step = 89, loss = 0.0\n",
            "iteration/train_step = 90, loss = 0.0\n",
            "iteration/train_step = 90, Average Return = -3.183331251144409\n",
            "iteration/train_step = 91, loss = 0.0\n",
            "iteration/train_step = 92, loss = 0.0\n",
            "iteration/train_step = 93, loss = 0.0\n",
            "iteration/train_step = 94, loss = 0.0\n",
            "iteration/train_step = 95, loss = 0.0\n",
            "iteration/train_step = 95, Average Return = -3.183331251144409\n",
            "iteration/train_step = 96, loss = 0.0\n",
            "iteration/train_step = 97, loss = 0.0\n",
            "iteration/train_step = 98, loss = 0.0\n",
            "iteration/train_step = 99, loss = 0.0\n"
          ],
          "name": "stdout"
        }
      ]
    },
    {
      "metadata": {
        "id": "vMDJZNG3akLF",
        "colab_type": "text"
      },
      "cell_type": "markdown",
      "source": [
        "## Visualize"
      ]
    },
    {
      "metadata": {
        "id": "mTI4jEGaVTbW",
        "colab_type": "code",
        "outputId": "decbd064-ace7-447b-d561-bc346770e7dd",
        "colab": {
          "base_uri": "https://localhost:8080/",
          "height": 383
        }
      },
      "cell_type": "code",
      "source": [
        "#@test {\"skip\": true}\n",
        "import matplotlib\n",
        "import matplotlib.pyplot as plt\n",
        "\n",
        "\n",
        "steps = range(0, len(returns)*eval_interval, eval_interval)\n",
        "plt.plot(steps, returns)\n",
        "plt.ylabel('Average Return')\n",
        "plt.xlabel('Step')\n",
        "plt.ylim(top=1,bottom=-5)"
      ],
      "execution_count": 42,
      "outputs": [
        {
          "output_type": "execute_result",
          "data": {
            "text/plain": [
              "(-5, 1)"
            ]
          },
          "metadata": {
            "tags": []
          },
          "execution_count": 42
        },
        {
          "output_type": "display_data",
          "data": {
            "image/png": "[encoded data removed]",
            "text/plain": [
              "<Figure size 576x396 with 1 Axes>"
            ]
          },
          "metadata": {
            "tags": []
          }
        }
      ]
    }
  ]
}